{
 "cells": [
  {
   "cell_type": "code",
   "execution_count": 1,
   "id": "2e8c2dea-511f-4bf2-866d-2f3de8816053",
   "metadata": {},
   "outputs": [],
   "source": [
    "import os\n",
    "import boto3\n",
    "import logging\n",
    "from botocore.exceptions import NoCredentialsError, PartialCredentialsError"
   ]
  },
  {
   "cell_type": "code",
   "execution_count": 2,
   "id": "f5322fd8-e673-44a0-ad08-7e105445885d",
   "metadata": {},
   "outputs": [],
   "source": [
    "AWS_S3_BUCKET = os.getenv(\"AWS_S3_BUCKET\")\n",
    "AWS_ACCESS_KEY_ID = os.getenv(\"AWS_ACCESS_KEY_ID\")\n",
    "AWS_SECRET_ACCESS_KEY = os.getenv(\"AWS_SECRET_ACCESS_KEY\")\n",
    "AWS_S3_ENDPOINT = os.getenv(\"AWS_S3_ENDPOINT\")\n",
    "AWS_VERIFY_SSL = False"
   ]
  },
  {
   "cell_type": "code",
   "execution_count": 11,
   "id": "19878781-18f9-4834-a1d5-862c55ac005e",
   "metadata": {},
   "outputs": [],
   "source": [
    "file_name = \"test_file.txt\"\n",
    "file_content = \"Hello this is a test file for S3 read and write operations\"\n",
    "s3_key = file_name"
   ]
  },
  {
   "cell_type": "code",
   "execution_count": 12,
   "id": "1d7b8f40-149a-4cfe-87cb-89e9c6a5028a",
   "metadata": {},
   "outputs": [],
   "source": [
    "with open(file_name, 'w') as f:\n",
    "    f.write(file_content)"
   ]
  },
  {
   "cell_type": "code",
   "execution_count": 13,
   "id": "ecf10a08-e589-484a-9f03-b9b890c16100",
   "metadata": {},
   "outputs": [],
   "source": [
    "s3_client = boto3.client(\n",
    "    \"s3\",\n",
    "    aws_access_key_id=AWS_ACCESS_KEY_ID,\n",
    "    aws_secret_access_key=AWS_SECRET_ACCESS_KEY,\n",
    "    endpoint_url=AWS_S3_ENDPOINT,\n",
    "    verify=AWS_VERIFY_SSL\n",
    ")"
   ]
  },
  {
   "cell_type": "code",
   "execution_count": 14,
   "id": "b9ffb1ef-2be0-4eba-bff7-f9cc76a19427",
   "metadata": {},
   "outputs": [],
   "source": [
    "def upload_file():\n",
    "    try:\n",
    "        s3_client.upload_file(file_name, AWS_S3_BUCKET, s3_key)\n",
    "        print(f\"Successfully uploaded {file_name} to {AWS_S3_BUCKET}/{s3_key}.\")\n",
    "    except (NoCredentialsError, PartialCredentialsError) as e:\n",
    "        logging.error(\"AWS Credentials not found or incomplete.\", exc_info=True)\n",
    "    except Exception as e:\n",
    "        logging.error(\"Error uploading file\", exc_info=True)"
   ]
  },
  {
   "cell_type": "code",
   "execution_count": 15,
   "id": "5e663260-10b9-46f6-843f-05849bd191f5",
   "metadata": {},
   "outputs": [],
   "source": [
    "def read_file():\n",
    "    try:\n",
    "        response = s3_client.get_object(Bucket=AWS_S3_BUCKET, Key=s3_key)\n",
    "        content = response['Body'].read().decode(\"utf-8\")\n",
    "        print(f\"Read from {AWS_S3_BUCKET}/{s3_key}: {content}\")\n",
    "    except s3_client.exceptions.NoSuchKey:\n",
    "        logging.error(\"The object does not exist.\", exc_info=True)\n",
    "    except Exception as e:\n",
    "        logging.error(\"Error reading file\", exc_info=True)"
   ]
  },
  {
   "cell_type": "code",
   "execution_count": 16,
   "id": "2529b2fc-dc09-4534-b90b-0da233a24306",
   "metadata": {},
   "outputs": [
    {
     "name": "stderr",
     "output_type": "stream",
     "text": [
      "/opt/app-root/lib64/python3.11/site-packages/urllib3/connectionpool.py:1064: InsecureRequestWarning: Unverified HTTPS request is being made to host 's3.openshift-storage.svc'. Adding certificate verification is strongly advised. See: https://urllib3.readthedocs.io/en/1.26.x/advanced-usage.html#ssl-warnings\n",
      "  warnings.warn(\n"
     ]
    },
    {
     "name": "stdout",
     "output_type": "stream",
     "text": [
      "Successfully uploaded test_file.txt to parko-wb-bucket/test_file.txt.\n"
     ]
    }
   ],
   "source": [
    "upload_file()"
   ]
  },
  {
   "cell_type": "code",
   "execution_count": 17,
   "id": "b77842ae-4842-4ee3-aeb0-06a80b6817a1",
   "metadata": {},
   "outputs": [
    {
     "name": "stderr",
     "output_type": "stream",
     "text": [
      "/opt/app-root/lib64/python3.11/site-packages/urllib3/connectionpool.py:1064: InsecureRequestWarning: Unverified HTTPS request is being made to host 's3.openshift-storage.svc'. Adding certificate verification is strongly advised. See: https://urllib3.readthedocs.io/en/1.26.x/advanced-usage.html#ssl-warnings\n",
      "  warnings.warn(\n"
     ]
    },
    {
     "name": "stdout",
     "output_type": "stream",
     "text": [
      "Read from parko-wb-bucket/test_file.txt: Hello this is a test file for S3 read and write operations\n"
     ]
    }
   ],
   "source": [
    "read_file()"
   ]
  }
 ],
 "metadata": {
  "kernelspec": {
   "display_name": "Python 3.11",
   "language": "python",
   "name": "python3"
  },
  "language_info": {
   "codemirror_mode": {
    "name": "ipython",
    "version": 3
   },
   "file_extension": ".py",
   "mimetype": "text/x-python",
   "name": "python",
   "nbconvert_exporter": "python",
   "pygments_lexer": "ipython3",
   "version": "3.11.7"
  }
 },
 "nbformat": 4,
 "nbformat_minor": 5
}
