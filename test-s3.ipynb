{
 "cells": [
  {
   "cell_type": "markdown",
   "id": "4e5435c8-d4f1-4585-bab0-5071dd7a31de",
   "metadata": {},
   "source": [
    "Import modules and set AWS S3 details based on environment variables"
   ]
  },
  {
   "cell_type": "code",
   "execution_count": null,
   "id": "2e8c2dea-511f-4bf2-866d-2f3de8816053",
   "metadata": {},
   "outputs": [],
   "source": [
    "import os\n",
    "import boto3\n",
    "import logging\n",
    "from botocore.exceptions import NoCredentialsError, PartialCredentialsError"
   ]
  },
  {
   "cell_type": "code",
   "execution_count": null,
   "id": "f5322fd8-e673-44a0-ad08-7e105445885d",
   "metadata": {},
   "outputs": [],
   "source": [
    "AWS_S3_BUCKET = os.getenv(\"AWS_S3_BUCKET\")\n",
    "AWS_ACCESS_KEY_ID = os.getenv(\"AWS_ACCESS_KEY_ID\")\n",
    "AWS_SECRET_ACCESS_KEY = os.getenv(\"AWS_SECRET_ACCESS_KEY\")\n",
    "AWS_S3_ENDPOINT = os.getenv(\"AWS_S3_ENDPOINT\")\n",
    "AWS_VERIFY_SSL = False"
   ]
  },
  {
   "cell_type": "markdown",
   "id": "1f7d1d21-0db3-48e4-b3e9-89d5a8d88d9f",
   "metadata": {},
   "source": [
    "Create test file"
   ]
  },
  {
   "cell_type": "code",
   "execution_count": null,
   "id": "19878781-18f9-4834-a1d5-862c55ac005e",
   "metadata": {},
   "outputs": [],
   "source": [
    "file_name = \"test_file.txt\"\n",
    "file_content = \"Hello this is a test file for S3 read and write operations\"\n",
    "s3_key = file_name"
   ]
  },
  {
   "cell_type": "code",
   "execution_count": null,
   "id": "1d7b8f40-149a-4cfe-87cb-89e9c6a5028a",
   "metadata": {},
   "outputs": [],
   "source": [
    "with open(file_name, 'w') as f:\n",
    "    f.write(file_content)"
   ]
  },
  {
   "cell_type": "markdown",
   "id": "bb12d639-45be-4e08-991c-98e721602b75",
   "metadata": {},
   "source": [
    "Establish S3 connection"
   ]
  },
  {
   "cell_type": "code",
   "execution_count": null,
   "id": "ecf10a08-e589-484a-9f03-b9b890c16100",
   "metadata": {},
   "outputs": [],
   "source": [
    "s3_client = boto3.client(\n",
    "    \"s3\",\n",
    "    aws_access_key_id=AWS_ACCESS_KEY_ID,\n",
    "    aws_secret_access_key=AWS_SECRET_ACCESS_KEY,\n",
    "    endpoint_url=AWS_S3_ENDPOINT,\n",
    "    verify=AWS_VERIFY_SSL\n",
    ")"
   ]
  },
  {
   "cell_type": "markdown",
   "id": "b28c3a50-4852-47d7-b384-ba08963de33a",
   "metadata": {},
   "source": [
    "Define upload and read functions"
   ]
  },
  {
   "cell_type": "code",
   "execution_count": null,
   "id": "b9ffb1ef-2be0-4eba-bff7-f9cc76a19427",
   "metadata": {},
   "outputs": [],
   "source": [
    "def upload_file():\n",
    "    try:\n",
    "        s3_client.upload_file(file_name, AWS_S3_BUCKET, s3_key)\n",
    "        print(f\"Successfully uploaded {file_name} to {AWS_S3_BUCKET}/{s3_key}.\")\n",
    "    except (NoCredentialsError, PartialCredentialsError) as e:\n",
    "        logging.error(\"AWS Credentials not found or incomplete.\", exc_info=True)\n",
    "    except Exception as e:\n",
    "        logging.error(\"Error uploading file\", exc_info=True)"
   ]
  },
  {
   "cell_type": "code",
   "execution_count": null,
   "id": "5e663260-10b9-46f6-843f-05849bd191f5",
   "metadata": {},
   "outputs": [],
   "source": [
    "def read_file():\n",
    "    try:\n",
    "        response = s3_client.get_object(Bucket=AWS_S3_BUCKET, Key=s3_key)\n",
    "        content = response['Body'].read().decode(\"utf-8\")\n",
    "        print(f\"Read from {AWS_S3_BUCKET}/{s3_key}: {content}\")\n",
    "    except s3_client.exceptions.NoSuchKey:\n",
    "        logging.error(\"The object does not exist.\", exc_info=True)\n",
    "    except Exception as e:\n",
    "        logging.error(\"Error reading file\", exc_info=True)"
   ]
  },
  {
   "cell_type": "markdown",
   "id": "8cbd040f-403c-41e1-b961-ce7f09413c30",
   "metadata": {},
   "source": [
    "Test file upload"
   ]
  },
  {
   "cell_type": "code",
   "execution_count": null,
   "id": "2529b2fc-dc09-4534-b90b-0da233a24306",
   "metadata": {},
   "outputs": [],
   "source": [
    "upload_file()"
   ]
  },
  {
   "cell_type": "markdown",
   "id": "b49e9a56-bf20-4473-8500-15602caa8e7c",
   "metadata": {},
   "source": [
    "Test file read"
   ]
  },
  {
   "cell_type": "code",
   "execution_count": null,
   "id": "b77842ae-4842-4ee3-aeb0-06a80b6817a1",
   "metadata": {},
   "outputs": [],
   "source": [
    "read_file()"
   ]
  }
 ],
 "metadata": {
  "kernelspec": {
   "display_name": "Python 3.11",
   "language": "python",
   "name": "python3"
  },
  "language_info": {
   "codemirror_mode": {
    "name": "ipython",
    "version": 3
   },
   "file_extension": ".py",
   "mimetype": "text/x-python",
   "name": "python",
   "nbconvert_exporter": "python",
   "pygments_lexer": "ipython3",
   "version": "3.11.7"
  }
 },
 "nbformat": 4,
 "nbformat_minor": 5
}
